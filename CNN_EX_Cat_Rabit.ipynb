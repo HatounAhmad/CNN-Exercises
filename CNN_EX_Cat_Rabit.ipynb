{
  "nbformat": 4,
  "nbformat_minor": 0,
  "metadata": {
    "colab": {
      "provenance": [],
      "gpuType": "T4"
    },
    "kernelspec": {
      "name": "python3",
      "display_name": "Python 3"
    },
    "language_info": {
      "name": "python"
    },
    "accelerator": "GPU"
  },
  "cells": [
    {
      "cell_type": "code",
      "source": [
        "!pip install roboflow"
      ],
      "metadata": {
        "colab": {
          "base_uri": "https://localhost:8080/"
        },
        "id": "y404KQ6C825m",
        "outputId": "a3bd837f-9533-401a-da41-d0d41a9725f9"
      },
      "execution_count": 222,
      "outputs": [
        {
          "output_type": "stream",
          "name": "stdout",
          "text": [
            "Requirement already satisfied: roboflow in /usr/local/lib/python3.10/dist-packages (1.1.21)\n",
            "Requirement already satisfied: certifi==2023.7.22 in /usr/local/lib/python3.10/dist-packages (from roboflow) (2023.7.22)\n",
            "Requirement already satisfied: chardet==4.0.0 in /usr/local/lib/python3.10/dist-packages (from roboflow) (4.0.0)\n",
            "Requirement already satisfied: cycler==0.10.0 in /usr/local/lib/python3.10/dist-packages (from roboflow) (0.10.0)\n",
            "Requirement already satisfied: idna==2.10 in /usr/local/lib/python3.10/dist-packages (from roboflow) (2.10)\n",
            "Requirement already satisfied: kiwisolver>=1.3.1 in /usr/local/lib/python3.10/dist-packages (from roboflow) (1.4.5)\n",
            "Requirement already satisfied: matplotlib in /usr/local/lib/python3.10/dist-packages (from roboflow) (3.7.1)\n",
            "Requirement already satisfied: numpy>=1.18.5 in /usr/local/lib/python3.10/dist-packages (from roboflow) (1.25.2)\n",
            "Requirement already satisfied: opencv-python-headless==4.8.0.74 in /usr/local/lib/python3.10/dist-packages (from roboflow) (4.8.0.74)\n",
            "Requirement already satisfied: Pillow>=7.1.2 in /usr/local/lib/python3.10/dist-packages (from roboflow) (9.4.0)\n",
            "Requirement already satisfied: python-dateutil in /usr/local/lib/python3.10/dist-packages (from roboflow) (2.8.2)\n",
            "Requirement already satisfied: python-dotenv in /usr/local/lib/python3.10/dist-packages (from roboflow) (1.0.1)\n",
            "Requirement already satisfied: requests in /usr/local/lib/python3.10/dist-packages (from roboflow) (2.31.0)\n",
            "Requirement already satisfied: six in /usr/local/lib/python3.10/dist-packages (from roboflow) (1.16.0)\n",
            "Requirement already satisfied: supervision in /usr/local/lib/python3.10/dist-packages (from roboflow) (0.18.0)\n",
            "Requirement already satisfied: urllib3>=1.26.6 in /usr/local/lib/python3.10/dist-packages (from roboflow) (2.0.7)\n",
            "Requirement already satisfied: tqdm>=4.41.0 in /usr/local/lib/python3.10/dist-packages (from roboflow) (4.66.2)\n",
            "Requirement already satisfied: PyYAML>=5.3.1 in /usr/local/lib/python3.10/dist-packages (from roboflow) (6.0.1)\n",
            "Requirement already satisfied: requests-toolbelt in /usr/local/lib/python3.10/dist-packages (from roboflow) (1.0.0)\n",
            "Requirement already satisfied: python-magic in /usr/local/lib/python3.10/dist-packages (from roboflow) (0.4.27)\n",
            "Requirement already satisfied: contourpy>=1.0.1 in /usr/local/lib/python3.10/dist-packages (from matplotlib->roboflow) (1.2.0)\n",
            "Requirement already satisfied: fonttools>=4.22.0 in /usr/local/lib/python3.10/dist-packages (from matplotlib->roboflow) (4.49.0)\n",
            "Requirement already satisfied: packaging>=20.0 in /usr/local/lib/python3.10/dist-packages (from matplotlib->roboflow) (23.2)\n",
            "Requirement already satisfied: pyparsing>=2.3.1 in /usr/local/lib/python3.10/dist-packages (from matplotlib->roboflow) (3.1.1)\n",
            "Requirement already satisfied: charset-normalizer<4,>=2 in /usr/local/lib/python3.10/dist-packages (from requests->roboflow) (3.3.2)\n",
            "Requirement already satisfied: defusedxml<0.8.0,>=0.7.1 in /usr/local/lib/python3.10/dist-packages (from supervision->roboflow) (0.7.1)\n",
            "Requirement already satisfied: scipy<2.0.0,>=1.10.0 in /usr/local/lib/python3.10/dist-packages (from supervision->roboflow) (1.11.4)\n"
          ]
        }
      ]
    },
    {
      "cell_type": "code",
      "execution_count": 223,
      "metadata": {
        "id": "6REFPs9zPjcL"
      },
      "outputs": [],
      "source": [
        "import torch\n",
        "import torch.nn as nn\n",
        "import torch.nn.functional as F\n",
        "from torch.utils.data import DataLoader\n",
        "import torchvision.transforms as transforms\n",
        "import torchvision.datasets as datasets\n",
        "from torch import optim\n",
        "import matplotlib.pyplot as plt\n",
        "from roboflow import Roboflow"
      ]
    },
    {
      "cell_type": "code",
      "source": [
        "rf = Roboflow(api_key=\"UinOpQSEUeMiovI9b24c\")\n",
        "project = rf.workspace(\"visiontuner-fpebk\").project(\"classification-uowwo\")\n",
        "dataset = project.version(1).download(\"folder\")\n"
      ],
      "metadata": {
        "id": "c7V91oR6QpVe",
        "colab": {
          "base_uri": "https://localhost:8080/"
        },
        "outputId": "4e905cca-2b65-4657-cd49-7fbf20cb11ae"
      },
      "execution_count": 224,
      "outputs": [
        {
          "output_type": "stream",
          "name": "stdout",
          "text": [
            "loading Roboflow workspace...\n",
            "loading Roboflow project...\n"
          ]
        }
      ]
    },
    {
      "cell_type": "code",
      "source": [
        "train_transform = transforms.Compose([\n",
        "    transforms.Resize((300, 300)), #The Resize transform makes sure all images are of the same size.\n",
        "    transforms.RandomRotation(10),     # RandomRotation, RandomHorizontalFlip, and RandomVerticalFlip introduce variations in the training data\n",
        "    transforms.RandomHorizontalFlip(),\n",
        "    transforms.RandomVerticalFlip(),\n",
        "    transforms.ToTensor(), #transforms the images into PyTorch tensors\n",
        "])\n",
        "\n",
        "test_transform = transforms.Compose([\n",
        "    transforms.Resize((300, 300)),\n",
        "    transforms.ToTensor(),\n",
        "])"
      ],
      "metadata": {
        "id": "adXzOlO3O2gd"
      },
      "execution_count": 225,
      "outputs": []
    },
    {
      "cell_type": "code",
      "source": [
        "\n",
        "train_dir = \"/content/classification-1/train\"\n",
        "test_dir = \"/content/classification-1/test\"\n",
        "val_dir = \"/content/classification-1/valid\"\n",
        "#load the datasets using ImageFolder to organize the images into classes based on their folder names\n",
        "#This makes it easier to handle the data during training\n",
        "val_dataset = datasets.ImageFolder(val_dir, transform=test_transform)\n",
        "train_dataset = datasets.ImageFolder(train_dir, transform=train_transform)\n",
        "test_dataset = datasets.ImageFolder(test_dir, transform=test_transform)\n"
      ],
      "metadata": {
        "id": "auhBDC6iIUD-"
      },
      "execution_count": 226,
      "outputs": []
    },
    {
      "cell_type": "code",
      "source": [
        "train_loader = torch.utils.data.DataLoader(train_dataset, batch_size=10, shuffle=True)\n",
        "val_loader = torch.utils.data.DataLoader(val_dataset, batch_size=10, shuffle=False)\n",
        "test_loader = torch.utils.data.DataLoader(test_dataset, batch_size=10, shuffle=False)"
      ],
      "metadata": {
        "id": "fkIEKFfuIUHs"
      },
      "execution_count": 227,
      "outputs": []
    },
    {
      "cell_type": "code",
      "source": [
        "#Print the shape of each image along with its label to understand how the data is organized and labeled across the datasets\n",
        "print(\"Train Dataset:\")\n",
        "for i, (image, label) in enumerate(train_dataset):\n",
        "    print(f\"Sample {i + 1}: Image shape: {image.shape}, Label: {label}\")\n",
        "\n",
        "print(\"\\nTest Dataset:\")\n",
        "for i, (image, label) in enumerate(test_dataset):\n",
        "    print(f\"Sample {i + 1}: Image shape: {image.shape}, Label: {label}\")\n",
        "\n",
        "print(\"\\nValidation Dataset:\")\n",
        "for i, (image, label) in enumerate(val_dataset):\n",
        "    print(f\"Sample {i + 1}: Image shape: {image.shape}, Label: {label}\")"
      ],
      "metadata": {
        "colab": {
          "base_uri": "https://localhost:8080/"
        },
        "id": "vWXGjwCiZB6n",
        "outputId": "1b05b6b4-e84a-4ddf-beed-1b959636d608"
      },
      "execution_count": 228,
      "outputs": [
        {
          "output_type": "stream",
          "name": "stdout",
          "text": [
            "Train Dataset:\n",
            "Sample 1: Image shape: torch.Size([3, 300, 300]), Label: 0\n",
            "Sample 2: Image shape: torch.Size([3, 300, 300]), Label: 0\n",
            "Sample 3: Image shape: torch.Size([3, 300, 300]), Label: 0\n",
            "Sample 4: Image shape: torch.Size([3, 300, 300]), Label: 0\n",
            "Sample 5: Image shape: torch.Size([3, 300, 300]), Label: 0\n",
            "Sample 6: Image shape: torch.Size([3, 300, 300]), Label: 0\n",
            "Sample 7: Image shape: torch.Size([3, 300, 300]), Label: 0\n",
            "Sample 8: Image shape: torch.Size([3, 300, 300]), Label: 0\n",
            "Sample 9: Image shape: torch.Size([3, 300, 300]), Label: 0\n",
            "Sample 10: Image shape: torch.Size([3, 300, 300]), Label: 0\n",
            "Sample 11: Image shape: torch.Size([3, 300, 300]), Label: 0\n",
            "Sample 12: Image shape: torch.Size([3, 300, 300]), Label: 0\n",
            "Sample 13: Image shape: torch.Size([3, 300, 300]), Label: 0\n",
            "Sample 14: Image shape: torch.Size([3, 300, 300]), Label: 0\n",
            "Sample 15: Image shape: torch.Size([3, 300, 300]), Label: 0\n",
            "Sample 16: Image shape: torch.Size([3, 300, 300]), Label: 0\n",
            "Sample 17: Image shape: torch.Size([3, 300, 300]), Label: 0\n",
            "Sample 18: Image shape: torch.Size([3, 300, 300]), Label: 0\n",
            "Sample 19: Image shape: torch.Size([3, 300, 300]), Label: 0\n",
            "Sample 20: Image shape: torch.Size([3, 300, 300]), Label: 0\n",
            "Sample 21: Image shape: torch.Size([3, 300, 300]), Label: 0\n",
            "Sample 22: Image shape: torch.Size([3, 300, 300]), Label: 0\n",
            "Sample 23: Image shape: torch.Size([3, 300, 300]), Label: 0\n",
            "Sample 24: Image shape: torch.Size([3, 300, 300]), Label: 0\n",
            "Sample 25: Image shape: torch.Size([3, 300, 300]), Label: 0\n",
            "Sample 26: Image shape: torch.Size([3, 300, 300]), Label: 0\n",
            "Sample 27: Image shape: torch.Size([3, 300, 300]), Label: 0\n",
            "Sample 28: Image shape: torch.Size([3, 300, 300]), Label: 0\n",
            "Sample 29: Image shape: torch.Size([3, 300, 300]), Label: 0\n",
            "Sample 30: Image shape: torch.Size([3, 300, 300]), Label: 0\n",
            "Sample 31: Image shape: torch.Size([3, 300, 300]), Label: 0\n",
            "Sample 32: Image shape: torch.Size([3, 300, 300]), Label: 0\n",
            "Sample 33: Image shape: torch.Size([3, 300, 300]), Label: 0\n",
            "Sample 34: Image shape: torch.Size([3, 300, 300]), Label: 0\n",
            "Sample 35: Image shape: torch.Size([3, 300, 300]), Label: 1\n",
            "Sample 36: Image shape: torch.Size([3, 300, 300]), Label: 1\n",
            "Sample 37: Image shape: torch.Size([3, 300, 300]), Label: 1\n",
            "Sample 38: Image shape: torch.Size([3, 300, 300]), Label: 1\n",
            "Sample 39: Image shape: torch.Size([3, 300, 300]), Label: 1\n",
            "Sample 40: Image shape: torch.Size([3, 300, 300]), Label: 1\n",
            "Sample 41: Image shape: torch.Size([3, 300, 300]), Label: 1\n",
            "Sample 42: Image shape: torch.Size([3, 300, 300]), Label: 1\n",
            "Sample 43: Image shape: torch.Size([3, 300, 300]), Label: 1\n",
            "Sample 44: Image shape: torch.Size([3, 300, 300]), Label: 1\n",
            "Sample 45: Image shape: torch.Size([3, 300, 300]), Label: 1\n",
            "Sample 46: Image shape: torch.Size([3, 300, 300]), Label: 1\n",
            "Sample 47: Image shape: torch.Size([3, 300, 300]), Label: 1\n",
            "Sample 48: Image shape: torch.Size([3, 300, 300]), Label: 1\n",
            "Sample 49: Image shape: torch.Size([3, 300, 300]), Label: 1\n",
            "Sample 50: Image shape: torch.Size([3, 300, 300]), Label: 1\n",
            "Sample 51: Image shape: torch.Size([3, 300, 300]), Label: 1\n",
            "Sample 52: Image shape: torch.Size([3, 300, 300]), Label: 1\n",
            "Sample 53: Image shape: torch.Size([3, 300, 300]), Label: 1\n",
            "Sample 54: Image shape: torch.Size([3, 300, 300]), Label: 1\n",
            "Sample 55: Image shape: torch.Size([3, 300, 300]), Label: 1\n",
            "Sample 56: Image shape: torch.Size([3, 300, 300]), Label: 1\n",
            "Sample 57: Image shape: torch.Size([3, 300, 300]), Label: 1\n",
            "Sample 58: Image shape: torch.Size([3, 300, 300]), Label: 1\n",
            "Sample 59: Image shape: torch.Size([3, 300, 300]), Label: 1\n",
            "Sample 60: Image shape: torch.Size([3, 300, 300]), Label: 1\n",
            "Sample 61: Image shape: torch.Size([3, 300, 300]), Label: 1\n",
            "Sample 62: Image shape: torch.Size([3, 300, 300]), Label: 1\n",
            "Sample 63: Image shape: torch.Size([3, 300, 300]), Label: 1\n",
            "Sample 64: Image shape: torch.Size([3, 300, 300]), Label: 1\n",
            "Sample 65: Image shape: torch.Size([3, 300, 300]), Label: 1\n",
            "Sample 66: Image shape: torch.Size([3, 300, 300]), Label: 1\n",
            "Sample 67: Image shape: torch.Size([3, 300, 300]), Label: 1\n",
            "Sample 68: Image shape: torch.Size([3, 300, 300]), Label: 1\n",
            "Sample 69: Image shape: torch.Size([3, 300, 300]), Label: 1\n",
            "Sample 70: Image shape: torch.Size([3, 300, 300]), Label: 1\n",
            "\n",
            "Test Dataset:\n",
            "Sample 1: Image shape: torch.Size([3, 300, 300]), Label: 0\n",
            "Sample 2: Image shape: torch.Size([3, 300, 300]), Label: 0\n",
            "Sample 3: Image shape: torch.Size([3, 300, 300]), Label: 0\n",
            "Sample 4: Image shape: torch.Size([3, 300, 300]), Label: 0\n",
            "Sample 5: Image shape: torch.Size([3, 300, 300]), Label: 0\n",
            "Sample 6: Image shape: torch.Size([3, 300, 300]), Label: 0\n",
            "Sample 7: Image shape: torch.Size([3, 300, 300]), Label: 0\n",
            "Sample 8: Image shape: torch.Size([3, 300, 300]), Label: 0\n",
            "Sample 9: Image shape: torch.Size([3, 300, 300]), Label: 1\n",
            "Sample 10: Image shape: torch.Size([3, 300, 300]), Label: 1\n",
            "\n",
            "Validation Dataset:\n",
            "Sample 1: Image shape: torch.Size([3, 300, 300]), Label: 0\n",
            "Sample 2: Image shape: torch.Size([3, 300, 300]), Label: 0\n",
            "Sample 3: Image shape: torch.Size([3, 300, 300]), Label: 0\n",
            "Sample 4: Image shape: torch.Size([3, 300, 300]), Label: 0\n",
            "Sample 5: Image shape: torch.Size([3, 300, 300]), Label: 0\n",
            "Sample 6: Image shape: torch.Size([3, 300, 300]), Label: 0\n",
            "Sample 7: Image shape: torch.Size([3, 300, 300]), Label: 0\n",
            "Sample 8: Image shape: torch.Size([3, 300, 300]), Label: 0\n",
            "Sample 9: Image shape: torch.Size([3, 300, 300]), Label: 1\n",
            "Sample 10: Image shape: torch.Size([3, 300, 300]), Label: 1\n",
            "Sample 11: Image shape: torch.Size([3, 300, 300]), Label: 1\n",
            "Sample 12: Image shape: torch.Size([3, 300, 300]), Label: 1\n",
            "Sample 13: Image shape: torch.Size([3, 300, 300]), Label: 1\n",
            "Sample 14: Image shape: torch.Size([3, 300, 300]), Label: 1\n",
            "Sample 15: Image shape: torch.Size([3, 300, 300]), Label: 1\n",
            "Sample 16: Image shape: torch.Size([3, 300, 300]), Label: 1\n",
            "Sample 17: Image shape: torch.Size([3, 300, 300]), Label: 1\n",
            "Sample 18: Image shape: torch.Size([3, 300, 300]), Label: 1\n",
            "Sample 19: Image shape: torch.Size([3, 300, 300]), Label: 1\n",
            "Sample 20: Image shape: torch.Size([3, 300, 300]), Label: 1\n"
          ]
        }
      ]
    },
    {
      "cell_type": "code",
      "source": [
        "torch.manual_seed(42)"
      ],
      "metadata": {
        "id": "IwiIxJrDiVhi",
        "colab": {
          "base_uri": "https://localhost:8080/"
        },
        "outputId": "fda21a2d-f666-447e-e0f5-59ae66e1937c"
      },
      "execution_count": 229,
      "outputs": [
        {
          "output_type": "execute_result",
          "data": {
            "text/plain": [
              "<torch._C.Generator at 0x7b259027a690>"
            ]
          },
          "metadata": {},
          "execution_count": 229
        }
      ]
    },
    {
      "cell_type": "code",
      "source": [
        "\n",
        "device = torch.device(\"cuda\" if torch.cuda.is_available() else \"cpu\")\n"
      ],
      "metadata": {
        "id": "cEe3PUPJ-nh6"
      },
      "execution_count": 230,
      "outputs": []
    },
    {
      "cell_type": "code",
      "source": [
        "class CNN(nn.Module):\n",
        "    def __init__(self):\n",
        "        super().__init__()\n",
        "        self.conv1 = nn.Conv2d(3, 64, kernel_size=3, stride=1, padding=1)\n",
        "        self.pool = nn.MaxPool2d(kernel_size=2, stride=2)\n",
        "        self.conv2 = nn.Conv2d(64, 128, kernel_size=3, stride=1, padding=1)\n",
        "        self.fc1 = nn.Linear(128 * 75 * 75, 256)  # Adjusted input size\n",
        "        self.fc2 = nn.Linear(256, 2)\n",
        "\n",
        "    def forward(self, x):\n",
        "        x = self.pool(F.relu(self.conv1(x)))\n",
        "        x = self.pool(F.relu(self.conv2(x)))\n",
        "        x = x.view(x.size(0), -1)\n",
        "        x = F.relu(self.fc1(x))\n",
        "        x = self.fc2(x)\n",
        "        return x"
      ],
      "metadata": {
        "id": "UO9wRe_gUSRS"
      },
      "execution_count": 231,
      "outputs": []
    },
    {
      "cell_type": "code",
      "source": [
        "# I used the CrossEntropyLoss function to compute the loss and Adam as the optimizer\n",
        "model = CNN().to(device)\n",
        "\n",
        "loss_fn = nn.CrossEntropyLoss()\n",
        "optimizer = optim.Adam(model.parameters(), lr=0.0001)\n",
        "\n",
        "epochs = 13"
      ],
      "metadata": {
        "id": "OZUtYO49WcLp"
      },
      "execution_count": 232,
      "outputs": []
    },
    {
      "cell_type": "code",
      "source": [
        "train_losses = [] # I initialize empty lists to store training losses,valid losses and also for valid accuracy\n",
        "valid_losses = []\n",
        "valid_accuracy = []\n",
        "\n",
        "for epoch in range(epochs):\n",
        "  # I set the model to train mode to update its weights\n",
        "    model.train()\n",
        "    epoch_weighted_loss = 0\n",
        "\n",
        "    # Here, it iterates over each batch in the training data.\n",
        "    for batch_idx, (features, labels) in enumerate(train_loader):\n",
        "        features, labels = features.to(device), labels.to(device)\n",
        "\n",
        "        predictions = model(features) #Passing inputs to the model\n",
        "        loss = loss_fn(predictions, labels)\n",
        "\n",
        "        optimizer.zero_grad()\n",
        "        loss.backward()\n",
        "        optimizer.step()\n",
        "        #update the epoch weighted loss\n",
        "        epoch_weighted_loss += loss.item() * len(features)\n",
        "\n",
        "    #calculate the average\n",
        "    epoch_loss = epoch_weighted_loss / len(train_loader.dataset)\n",
        "    train_losses.append(epoch_loss)\n",
        "\n",
        "    # Validation ,set the model to evaluation mode\n",
        "    model.eval()\n",
        "    valid_loss = 0\n",
        "    correct = 0\n",
        "    total = 0\n",
        "\n",
        "    with torch.no_grad():\n",
        "        for batch_idx, (features, labels) in enumerate(val_loader):\n",
        "            features, labels = features.to(device), labels.to(device)\n",
        "            predictions = model(features)\n",
        "            valid_loss += loss_fn(predictions, labels).item()\n",
        "            _, predicted = torch.max(predictions, 1)  # Convert the predicted probabilities to predicted class labels\n",
        "            # Update the number of correct predictions and total predictions\n",
        "            correct += (predicted == labels).sum().item()\n",
        "            total += labels.size(0)\n",
        "\n",
        "    valid_losses.append(valid_loss / len(val_loader.dataset))\n",
        "    valid_accuracy.append(correct / total)\n",
        "\n",
        "    print(f'Epoch [{epoch + 1}/{epochs}], Train Loss: {epoch_loss:.4f}, Valid Loss: {valid_losses[-1]:.4f}, Valid Accuracy: {valid_accuracy[-1]:.4f}')\n"
      ],
      "metadata": {
        "colab": {
          "base_uri": "https://localhost:8080/"
        },
        "id": "0tWDCLxOXrF6",
        "outputId": "9610f342-f71c-4489-96fa-3e81c4b178de"
      },
      "execution_count": 233,
      "outputs": [
        {
          "output_type": "stream",
          "name": "stdout",
          "text": [
            "Epoch [1/13], Train Loss: 1.2321, Valid Loss: 0.0626, Valid Accuracy: 0.5000\n",
            "Epoch [2/13], Train Loss: 0.6900, Valid Loss: 0.0659, Valid Accuracy: 0.6500\n",
            "Epoch [3/13], Train Loss: 0.6968, Valid Loss: 0.0811, Valid Accuracy: 0.6500\n",
            "Epoch [4/13], Train Loss: 0.4123, Valid Loss: 0.0633, Valid Accuracy: 0.7000\n",
            "Epoch [5/13], Train Loss: 0.3976, Valid Loss: 0.0574, Valid Accuracy: 0.7000\n",
            "Epoch [6/13], Train Loss: 0.4080, Valid Loss: 0.0773, Valid Accuracy: 0.7000\n",
            "Epoch [7/13], Train Loss: 0.3477, Valid Loss: 0.0574, Valid Accuracy: 0.7500\n",
            "Epoch [8/13], Train Loss: 0.4180, Valid Loss: 0.0722, Valid Accuracy: 0.7500\n",
            "Epoch [9/13], Train Loss: 0.3634, Valid Loss: 0.0602, Valid Accuracy: 0.7000\n",
            "Epoch [10/13], Train Loss: 0.3361, Valid Loss: 0.0653, Valid Accuracy: 0.7500\n",
            "Epoch [11/13], Train Loss: 0.2901, Valid Loss: 0.0572, Valid Accuracy: 0.7500\n",
            "Epoch [12/13], Train Loss: 0.2723, Valid Loss: 0.0711, Valid Accuracy: 0.7500\n",
            "Epoch [13/13], Train Loss: 0.2276, Valid Loss: 0.0513, Valid Accuracy: 0.7500\n"
          ]
        }
      ]
    },
    {
      "cell_type": "code",
      "source": [
        "plt.plot(train_losses, label='Train Loss')\n",
        "plt.plot(valid_losses, label='Validation Loss')\n",
        "plt.xlabel('Epoch')\n",
        "plt.ylabel('Loss')\n",
        "plt.title('Training and Validation Loss')\n",
        "plt.legend()\n",
        "plt.show()\n"
      ],
      "metadata": {
        "colab": {
          "base_uri": "https://localhost:8080/",
          "height": 472
        },
        "id": "4j9J_jo4YPIV",
        "outputId": "9b7af289-6ece-4eac-cc35-9a4d113ef8f3"
      },
      "execution_count": 234,
      "outputs": [
        {
          "output_type": "display_data",
          "data": {
            "text/plain": [
              "<Figure size 640x480 with 1 Axes>"
            ],
            "image/png": "[encoded data removed]"
          },
          "metadata": {}
        }
      ]
    },
    {
      "cell_type": "code",
      "source": [
        "correct = 0\n",
        "total = 0\n",
        "with torch.no_grad():\n",
        "    for features, labels in test_loader:\n",
        "        features, labels = features.to(device), labels.to(device)\n",
        "        predictions = model(features)\n",
        "        _, predicted_labels = torch.max(predictions, 1)  # Get the predicted class labels\n",
        "        correct += (predicted_labels == labels).sum().item()\n",
        "        total += labels.size(0)\n",
        "\n",
        "# Calculate the accuracy by dividing the number of correct predictions by the total number of predictions\n",
        "accuracy = (correct / total)*100\n",
        "print(f\"Accuracy: {accuracy}\")"
      ],
      "metadata": {
        "colab": {
          "base_uri": "https://localhost:8080/"
        },
        "id": "B6eaH-JsX3gL",
        "outputId": "3b966409-8e00-4c7d-d9b8-c5389c2cffec"
      },
      "execution_count": 235,
      "outputs": [
        {
          "output_type": "stream",
          "name": "stdout",
          "text": [
            "Accuracy: 90.0\n"
          ]
        }
      ]
    }
  ]
}